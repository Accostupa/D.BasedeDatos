{
 "cells": [
  {
   "cell_type": "markdown",
   "metadata": {},
   "source": [
    "# SEMANA 02\n",
    "\n",
    "Accostupa Quispe Lucero"
   ]
  },
  {
   "cell_type": "markdown",
   "metadata": {},
   "source": [
    "Tema:\n",
    "    1: Numeros\n",
    "    2: Variables\n",
    "    3. Manejo de cadenas\n",
    "    4.Ingreso de datos por teclado\n",
    "    5. Operadores\n",
    "    \n",
    "    \n",
    "    4.ingreso de datos por teclado"
   ]
  },
  {
   "cell_type": "code",
   "execution_count": 2,
   "metadata": {},
   "outputs": [
    {
     "name": "stdout",
     "output_type": "stream",
     "text": [
      "¿Cual es tu nombre?\n",
      "Lucero\n",
      "hola Lucero\n"
     ]
    }
   ],
   "source": [
    "# Funcion input()\n",
    "print(\"¿Cual es tu nombre?\")\n",
    "nombre=input()\n",
    "print(\"hola \"+nombre)"
   ]
  },
  {
   "cell_type": "code",
   "execution_count": null,
   "metadata": {},
   "outputs": [],
   "source": [
    "#cuando ingresa un valor por teclado lo hace como cadena\n",
    "print(\"numero 1: \")\n",
    "numero1 = input()\n",
    "print(\"numero 2: \")\n",
    "munero2: input()\n",
    "numeor3 = int(numero1)+int(numero2)\n",
    "print(\"El numero\")"
   ]
  }
 ],
 "metadata": {
  "kernelspec": {
   "display_name": "Python 3",
   "language": "python",
   "name": "python3"
  },
  "language_info": {
   "codemirror_mode": {
    "name": "ipython",
    "version": 3
   },
   "file_extension": ".py",
   "mimetype": "text/x-python",
   "name": "python",
   "nbconvert_exporter": "python",
   "pygments_lexer": "ipython3",
   "version": "3.7.6"
  }
 },
 "nbformat": 4,
 "nbformat_minor": 4
}
